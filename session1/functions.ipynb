{
 "cells": [
  {
   "cell_type": "code",
   "execution_count": 3,
   "metadata": {},
   "outputs": [
    {
     "name": "stdout",
     "output_type": "stream",
     "text": [
      "Hello World\n"
     ]
    }
   ],
   "source": [
    "def my_func():\n",
    "    print(\"Hello World\")\n",
    "    \n",
    "my_func()"
   ]
  },
  {
   "cell_type": "code",
   "execution_count": 5,
   "metadata": {},
   "outputs": [
    {
     "name": "stdout",
     "output_type": "stream",
     "text": [
      "HelloWorld\n"
     ]
    }
   ],
   "source": [
    "# params and return value\n",
    "def my_func(a, b):\n",
    "    return a + b\n",
    "    \n",
    "print(my_func('Hello', 'World'))"
   ]
  },
  {
   "cell_type": "code",
   "execution_count": 19,
   "metadata": {},
   "outputs": [
    {
     "name": "stdout",
     "output_type": "stream",
     "text": [
      "first normal arg: first\n",
      "another arg from *args : var1\n",
      "another arg from *args : var2\n",
      "another arg from *args : var3\n",
      "**********\n",
      "first normal arg: first\n",
      "another arg from *args : var1\n",
      "another arg from *args : var2\n",
      "another arg from *args : var3\n"
     ]
    }
   ],
   "source": [
    "# args\n",
    "def test_args(arg, *args):\n",
    "    print(\"first normal arg:\", arg)\n",
    "    for arg in args:\n",
    "        print(\"another arg from *args :\", arg)\n",
    "\n",
    "test_args('first','var1','var2','var3')\n",
    "print('*'*10)\n",
    "args = ('var1','var2','var3')\n",
    "test_args('first', *args)"
   ]
  },
  {
   "cell_type": "code",
   "execution_count": 20,
   "metadata": {},
   "outputs": [
    {
     "name": "stdout",
     "output_type": "stream",
     "text": [
      "a == 1\n",
      "b == 2\n",
      "**********\n",
      "a == 1\n",
      "b == 2\n"
     ]
    }
   ],
   "source": [
    "# kwargs\n",
    "def my_func(**kwargs):\n",
    "    if kwargs is not None:\n",
    "        for key, value in kwargs.items():\n",
    "            print(\"%s == %s\" % (key,value))\n",
    "\n",
    "my_func(a='1', b='2')\n",
    "print('*'*10)\n",
    "params = {'a': '1', 'b': '2'}\n",
    "my_func(**params)"
   ]
  },
  {
   "cell_type": "code",
   "execution_count": 22,
   "metadata": {},
   "outputs": [
    {
     "ename": "SyntaxError",
     "evalue": "iterable argument unpacking follows keyword argument unpacking (<ipython-input-22-22304d94b73e>, line 11)",
     "output_type": "error",
     "traceback": [
      "\u001b[0;36m  File \u001b[0;32m\"<ipython-input-22-22304d94b73e>\"\u001b[0;36m, line \u001b[0;32m11\u001b[0m\n\u001b[0;31m    my_func(**kwargs, *args)\u001b[0m\n\u001b[0m                     ^\u001b[0m\n\u001b[0;31mSyntaxError\u001b[0m\u001b[0;31m:\u001b[0m iterable argument unpacking follows keyword argument unpacking\n"
     ]
    }
   ],
   "source": [
    "# THIS WILL NOT WORK\n",
    "params = {'a': '1', 'b': '2'}\n",
    "args = (1, 2, 3)\n",
    "\n",
    "def my_func(*args, **kwargs):\n",
    "    for arg in args:\n",
    "        print(\"another arg from *args :\", arg)\n",
    "    if kwargs is not None:\n",
    "        for key, value in kwargs.items():\n",
    "            print(\"%s == %s\" % (key,value))\n",
    "my_func(**kwargs, *args)\n"
   ]
  },
  {
   "cell_type": "code",
   "execution_count": 24,
   "metadata": {},
   "outputs": [
    {
     "name": "stdout",
     "output_type": "stream",
     "text": [
      "arg is %s Default\n",
      "**********\n",
      "arg is %s specific\n"
     ]
    }
   ],
   "source": [
    "# Default parameter value\n",
    "def my_func(arg='Default'):\n",
    "    print('arg is %s', arg)\n",
    "my_func()\n",
    "print('*'*10)\n",
    "my_func('specific')"
   ]
  },
  {
   "cell_type": "code",
   "execution_count": 25,
   "metadata": {},
   "outputs": [
    {
     "name": "stdout",
     "output_type": "stream",
     "text": [
      "first\n",
      "second\n"
     ]
    }
   ],
   "source": [
    "# multi return (as tuple)\n",
    "def my_func():\n",
    "    return 'first', 'second'\n",
    "a, b = my_func()\n",
    "print(a)\n",
    "print(b)\n"
   ]
  },
  {
   "cell_type": "code",
   "execution_count": 26,
   "metadata": {},
   "outputs": [],
   "source": [
    "# main func\n",
    "def main():\n",
    "     print(\"hello world\")"
   ]
  },
  {
   "cell_type": "code",
   "execution_count": 27,
   "metadata": {},
   "outputs": [
    {
     "name": "stdout",
     "output_type": "stream",
     "text": [
      "hello world\n"
     ]
    }
   ],
   "source": [
    "def main():\n",
    "     print(\"hello world\")\n",
    "\n",
    "if __name__== \"__main__\":\n",
    "    main()"
   ]
  },
  {
   "cell_type": "code",
   "execution_count": null,
   "metadata": {},
   "outputs": [],
   "source": []
  }
 ],
 "metadata": {
  "kernelspec": {
   "display_name": "Python 3",
   "language": "python",
   "name": "python3"
  },
  "language_info": {
   "codemirror_mode": {
    "name": "ipython",
    "version": 3
   },
   "file_extension": ".py",
   "mimetype": "text/x-python",
   "name": "python",
   "nbconvert_exporter": "python",
   "pygments_lexer": "ipython3",
   "version": "3.7.1"
  }
 },
 "nbformat": 4,
 "nbformat_minor": 2
}
