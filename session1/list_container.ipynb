{
 "cells": [
  {
   "cell_type": "code",
   "execution_count": 4,
   "metadata": {},
   "outputs": [
    {
     "name": "stdout",
     "output_type": "stream",
     "text": [
      "[1, 2, 4]\n",
      "[1, 2, 4, 3]\n"
     ]
    }
   ],
   "source": [
    "# list is a collection which is ordered and changeable\n",
    "lst = [1, 2, 3]\n",
    "lst[2] = 4\n",
    "print(lst)\n",
    "lst.append(3)\n",
    "print(lst)"
   ]
  },
  {
   "cell_type": "code",
   "execution_count": 5,
   "metadata": {},
   "outputs": [
    {
     "name": "stdout",
     "output_type": "stream",
     "text": [
      "1\n",
      "2\n",
      "4\n",
      "3\n"
     ]
    }
   ],
   "source": [
    "# loop through the list items\n",
    "for l in lst:\n",
    "    print(l)"
   ]
  },
  {
   "cell_type": "code",
   "execution_count": 6,
   "metadata": {},
   "outputs": [
    {
     "name": "stdout",
     "output_type": "stream",
     "text": [
      "exists\n"
     ]
    }
   ],
   "source": [
    "# check if item exists\n",
    "if 3 in lst:\n",
    "    print('exists')"
   ]
  },
  {
   "cell_type": "code",
   "execution_count": 10,
   "metadata": {},
   "outputs": [
    {
     "name": "stdout",
     "output_type": "stream",
     "text": [
      "<class 'str'>\n",
      "a\n",
      "m\n",
      " \n",
      "I\n",
      " \n",
      "a\n",
      " \n",
      "l\n",
      "i\n",
      "s\n",
      "t\n",
      "?\n"
     ]
    }
   ],
   "source": [
    "# String as list of letters\n",
    "str = 'am I a list?'\n",
    "print(type(str))\n",
    "for s in str:\n",
    "    print(s)"
   ]
  },
  {
   "cell_type": "code",
   "execution_count": 32,
   "metadata": {},
   "outputs": [
    {
     "name": "stdout",
     "output_type": "stream",
     "text": [
      "4\n",
      "[1, 2, 3, 4, 5]\n",
      "[1, 3, 4, 5]\n",
      "[1, 3, 5]\n"
     ]
    }
   ],
   "source": [
    "# Len, append, remove, pop\n",
    "lst = [1, 2, 3, 4]\n",
    "print(len(lst))\n",
    "lst.append(5)\n",
    "print(lst)\n",
    "lst.remove(2)\n",
    "print(lst)\n",
    "lst.pop(2) # or pop()\n",
    "print(lst)\n"
   ]
  },
  {
   "cell_type": "code",
   "execution_count": 22,
   "metadata": {},
   "outputs": [
    {
     "name": "stdout",
     "output_type": "stream",
     "text": [
      "[1, 2, 3, 4, [5, 6, 7]]\n",
      "[1, 2, 3, 4, 5, 6, 7]\n"
     ]
    }
   ],
   "source": [
    "# append vs extends\n",
    "lst = [1, 2, 3, 4]\n",
    "lst1 = [1, 2, 3, 4]\n",
    "lst2 = [5, 6, 7]\n",
    "lst.append(lst2)\n",
    "print(lst)\n",
    "lst1.extend(lst2)\n",
    "print(lst1)"
   ]
  },
  {
   "cell_type": "code",
   "execution_count": 30,
   "metadata": {},
   "outputs": [
    {
     "name": "stdout",
     "output_type": "stream",
     "text": [
      "reversed: [1, 2, 3, 4, 5]\n",
      "sorted and unchanged: [1, 2, 3, 4, 5] [2, 4, 3, 5, 1]\n",
      "sorted: [1, 2, 3, 4, 5]\n"
     ]
    }
   ],
   "source": [
    "# reverse, sort, sorted\n",
    "lst = [5, 4, 3, 2, 1]\n",
    "lst.reverse()\n",
    "print('reversed:', lst)\n",
    "\n",
    "lst = [2, 4, 3, 5, 1]\n",
    "print('sorted and unchanged:', sorted(lst), lst)\n",
    "lst.sort()\n",
    "print('sorted:', lst)"
   ]
  },
  {
   "cell_type": "code",
   "execution_count": null,
   "metadata": {},
   "outputs": [],
   "source": []
  }
 ],
 "metadata": {
  "kernelspec": {
   "display_name": "Python 3",
   "language": "python",
   "name": "python3"
  },
  "language_info": {
   "codemirror_mode": {
    "name": "ipython",
    "version": 3
   },
   "file_extension": ".py",
   "mimetype": "text/x-python",
   "name": "python",
   "nbconvert_exporter": "python",
   "pygments_lexer": "ipython3",
   "version": "3.7.1"
  }
 },
 "nbformat": 4,
 "nbformat_minor": 2
}
