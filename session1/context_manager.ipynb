{
 "cells": [
  {
   "cell_type": "code",
   "execution_count": null,
   "metadata": {},
   "outputs": [],
   "source": [
    "from threading import Lock\n",
    "lock = Lock()\n",
    "\n",
    "\n",
    "def do_something_dangerous():\n",
    "    lock.acquire()\n",
    "    raise Exception('oops I forgot this code could raise exceptions')\n",
    "    lock.release()\n",
    "\n",
    "try:\n",
    "    do_something_dangerous()\n",
    "except:\n",
    "    print('Got an exception')\n",
    "lock.acquire()\n",
    "print('Got here')"
   ]
  },
  {
   "cell_type": "code",
   "execution_count": null,
   "metadata": {},
   "outputs": [],
   "source": [
    "from threading import Lock\n",
    "lock = Lock()\n",
    "\n",
    "def do_something_dangerous():\n",
    "    with lock:\n",
    "        raise Exception('oops I forgot this code could raise exceptions')\n",
    "\n",
    "try:\n",
    "    do_something_dangerous()\n",
    "except:\n",
    "    print('Got an exception')\n",
    "lock.acquire()\n",
    "print('Got here')"
   ]
  }
 ],
 "metadata": {
  "kernelspec": {
   "display_name": "Python 2",
   "language": "python",
   "name": "python2"
  },
  "language_info": {
   "codemirror_mode": {
    "name": "ipython",
    "version": 2
   },
   "file_extension": ".py",
   "mimetype": "text/x-python",
   "name": "python",
   "nbconvert_exporter": "python",
   "pygments_lexer": "ipython2",
   "version": "2.7.10"
  }
 },
 "nbformat": 4,
 "nbformat_minor": 2
}
