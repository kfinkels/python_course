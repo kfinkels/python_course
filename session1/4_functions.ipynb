{
 "cells": [
  {
   "cell_type": "code",
   "execution_count": null,
   "metadata": {},
   "outputs": [],
   "source": [
    "def my_func():\n",
    "    print(\"Hello World\")\n",
    "    \n",
    "my_func()"
   ]
  },
  {
   "cell_type": "code",
   "execution_count": null,
   "metadata": {},
   "outputs": [],
   "source": [
    "# params and return value\n",
    "def my_func(a, b):\n",
    "    return a + b\n",
    "    \n",
    "print(my_func('Hello', 'World'))"
   ]
  },
  {
   "cell_type": "code",
   "execution_count": null,
   "metadata": {},
   "outputs": [],
   "source": [
    "# args\n",
    "def test_args(arg, *args):\n",
    "    print(f'first normal arg: {arg}')\n",
    "    for arg in args:\n",
    "        print(f'another arg from {args}')\n",
    "\n",
    "test_args('first','var1','var2','var3')\n",
    "print('*' * 10)\n",
    "args = ('var1','var2','var3')\n",
    "test_args('first', *args)"
   ]
  },
  {
   "cell_type": "code",
   "execution_count": null,
   "metadata": {},
   "outputs": [],
   "source": [
    "# kwargs\n",
    "def my_func(**kwargs):\n",
    "    if kwargs is not None:\n",
    "        for key, value in kwargs.items():\n",
    "            print(f'{key} == {value}')\n",
    "\n",
    "my_func(a='1', b='2')\n",
    "print('*'*10)\n",
    "params = {'a': '1', 'b': '2'}\n",
    "my_func(**params)"
   ]
  },
  {
   "cell_type": "code",
   "execution_count": null,
   "metadata": {},
   "outputs": [],
   "source": [
    "# Default parameter value\n",
    "def my_func(arg='Default'):\n",
    "    print(f'arg is {arg}')\n",
    "my_func()\n",
    "print('*'*10)\n",
    "my_func('specific')"
   ]
  },
  {
   "cell_type": "code",
   "execution_count": null,
   "metadata": {},
   "outputs": [],
   "source": [
    "# multi return (as tuple)\n",
    "def my_func():\n",
    "    return 'first', 'second'\n",
    "a, b = my_func()\n",
    "print(a)\n",
    "print(b)\n"
   ]
  },
  {
   "cell_type": "code",
   "execution_count": null,
   "metadata": {},
   "outputs": [],
   "source": [
    "# calling params explicit \n",
    "def func(param1, param2):\n",
    "     print(f'{param1} {param2}')\n",
    "        \n",
    "func('Hello', 'World')\n",
    "func(param1='Hello', param2='World')"
   ]
  },
  {
   "cell_type": "code",
   "execution_count": null,
   "metadata": {},
   "outputs": [],
   "source": [
    "def main():\n",
    "     print(\"hello world\")\n",
    "\n",
    "if __name__== \"__main__\":\n",
    "    main()"
   ]
  },
  {
   "cell_type": "code",
   "execution_count": null,
   "metadata": {},
   "outputs": [],
   "source": []
  }
 ],
 "metadata": {
  "kernelspec": {
   "display_name": "Python 3",
   "language": "python",
   "name": "python3"
  },
  "language_info": {
   "codemirror_mode": {
    "name": "ipython",
    "version": 3
   },
   "file_extension": ".py",
   "mimetype": "text/x-python",
   "name": "python",
   "nbconvert_exporter": "python",
   "pygments_lexer": "ipython3",
   "version": "3.7.3"
  }
 },
 "nbformat": 4,
 "nbformat_minor": 2
}
