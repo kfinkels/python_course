{
 "cells": [
  {
   "cell_type": "code",
   "execution_count": 7,
   "metadata": {},
   "outputs": [],
   "source": [
    "def check_prime(number):\n",
    "    for divisor in range(2, int(number ** 0.5) + 1):\n",
    "        if number % divisor == 0:\n",
    "            return False\n",
    "    return True"
   ]
  },
  {
   "cell_type": "code",
   "execution_count": null,
   "metadata": {},
   "outputs": [],
   "source": [
    "class Primes(object):\n",
    "    def __init__(self, max):\n",
    "        self.max = max\n",
    "        self.number = 1\n",
    "    \n",
    "    def __iter__(self):\n",
    "        return self\n",
    "    \n",
    "    def __next__(self):\n",
    "        self.number += 1\n",
    "        if self.number >= self.max:\n",
    "            raise StopIteration\n",
    "        elif check_prime(self.number):\n",
    "            return self.number\n",
    "        return self.__next__()\n",
    "        \n",
    "    def next(self):\n",
    "        return self.__next__()    \n",
    "        \n",
    "primes = Primes(1000)\n",
    "for x in primes:\n",
    "    print(x)"
   ]
  },
  {
   "cell_type": "code",
   "execution_count": null,
   "metadata": {},
   "outputs": [],
   "source": [
    "def Primes(max):\n",
    "    number = 1\n",
    "    while number < max:\n",
    "        number += 1\n",
    "        if check_prime(number):\n",
    "            yield number\n",
    "\n",
    "primes = Primes(1000)\n",
    "for x in primes:\n",
    "    print(x)"
   ]
  }
 ],
 "metadata": {
  "kernelspec": {
   "display_name": "Python 2",
   "language": "python",
   "name": "python2"
  },
  "language_info": {
   "codemirror_mode": {
    "name": "ipython",
    "version": 2
   },
   "file_extension": ".py",
   "mimetype": "text/x-python",
   "name": "python",
   "nbconvert_exporter": "python",
   "pygments_lexer": "ipython2",
   "version": "2.7.10"
  }
 },
 "nbformat": 4,
 "nbformat_minor": 2
}
