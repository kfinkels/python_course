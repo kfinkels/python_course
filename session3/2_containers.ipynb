{
 "cells": [
  {
   "cell_type": "code",
   "execution_count": 1,
   "metadata": {},
   "outputs": [
    {
     "data": {
      "text/plain": [
       "10"
      ]
     },
     "execution_count": 1,
     "metadata": {},
     "output_type": "execute_result"
    }
   ],
   "source": [
    "# sum(x): adds up (integers) elements\n",
    "indexes = [1, 2, 3, 4]\n",
    "sum(indexes)"
   ]
  },
  {
   "cell_type": "code",
   "execution_count": 2,
   "metadata": {},
   "outputs": [
    {
     "name": "stdout",
     "output_type": "stream",
     "text": [
      "True\n",
      "False\n"
     ]
    }
   ],
   "source": [
    "# all(): all values of this list are true\n",
    "list1 = [10, 5, 15, 77]\n",
    "print(all(list1))\n",
    "\n",
    "# 0 is considered as false\n",
    "list2 = [0, False, 0]\n",
    "print(all(list2))"
   ]
  },
  {
   "cell_type": "code",
   "execution_count": 3,
   "metadata": {},
   "outputs": [
    {
     "name": "stdout",
     "output_type": "stream",
     "text": [
      "True\n",
      "False\n"
     ]
    }
   ],
   "source": [
    "# dict: comparing the keys\n",
    "dict1 = {1: 'True', 2: 'False'}\n",
    "print(all(dict1))\n",
    "\n",
    "# One of the key is false\n",
    "dict2 = {0: 'True', 1: 'True'}\n",
    "print(all(dict2))"
   ]
  },
  {
   "cell_type": "code",
   "execution_count": 4,
   "metadata": {},
   "outputs": [
    {
     "name": "stdout",
     "output_type": "stream",
     "text": [
      "False\n",
      "True\n"
     ]
    }
   ],
   "source": [
    "# any(): at least on should be true \n",
    "list1 = [0, False]\n",
    "print(any(list1))\n",
    "\n",
    "# one value is true, others are false\n",
    "list2 = [10, 0, False]\n",
    "print(any(list2))"
   ]
  },
  {
   "cell_type": "code",
   "execution_count": 5,
   "metadata": {},
   "outputs": [
    {
     "name": "stdout",
     "output_type": "stream",
     "text": [
      "True\n",
      "False\n",
      "True\n"
     ]
    }
   ],
   "source": [
    "# dict: at least one key is True\n",
    "dict1 = {1: 'False', 0: 'True'}\n",
    "print(any(dict1))\n",
    "\n",
    "# all keys are false\n",
    "dict2 = {0: 'False', False: 'True'}\n",
    "print(any(dict2))\n",
    "\n",
    "# One key is true, '0' (str) is not false its True\n",
    "dict3 = {'0': 'False'}\n",
    "print(any(dict3))"
   ]
  },
  {
   "cell_type": "code",
   "execution_count": 7,
   "metadata": {},
   "outputs": [
    {
     "data": {
      "text/plain": [
       "['__class__',\n",
       " '__delattr__',\n",
       " '__dir__',\n",
       " '__doc__',\n",
       " '__eq__',\n",
       " '__format__',\n",
       " '__ge__',\n",
       " '__getattribute__',\n",
       " '__gt__',\n",
       " '__hash__',\n",
       " '__init__',\n",
       " '__init_subclass__',\n",
       " '__iter__',\n",
       " '__le__',\n",
       " '__length_hint__',\n",
       " '__lt__',\n",
       " '__ne__',\n",
       " '__new__',\n",
       " '__next__',\n",
       " '__reduce__',\n",
       " '__reduce_ex__',\n",
       " '__repr__',\n",
       " '__setattr__',\n",
       " '__setstate__',\n",
       " '__sizeof__',\n",
       " '__str__',\n",
       " '__subclasshook__']"
      ]
     },
     "execution_count": 7,
     "metadata": {},
     "output_type": "execute_result"
    }
   ],
   "source": [
    "# reversed(x): iterator of elements in reverse order\n",
    "lst = ['keren', 'hila', 'yoav']\n",
    "print(list(reversed(lst)))\n",
    "name = 'finkelstein'\n",
    "print(''.join(reversed(name)))"
   ]
  },
  {
   "cell_type": "code",
   "execution_count": 12,
   "metadata": {},
   "outputs": [
    {
     "data": {
      "text/plain": [
       "[(1, 'keren'), (2, 'hila'), (3, 'yoav')]"
      ]
     },
     "execution_count": 12,
     "metadata": {},
     "output_type": "execute_result"
    }
   ],
   "source": [
    "# list of tuples with one element from each list\n",
    "list(zip(indexes, lst))"
   ]
  },
  {
   "cell_type": "code",
   "execution_count": 13,
   "metadata": {},
   "outputs": [
    {
     "data": {
      "text/plain": [
       "[1, 4, 9, 16]"
      ]
     },
     "execution_count": 13,
     "metadata": {},
     "output_type": "execute_result"
    }
   ],
   "source": [
    "# applying an operation to each item in the list\n",
    "def sqr(x): \n",
    "    return x ** 2\n",
    "lst = list(map(sqr, indexes))\n",
    "lst"
   ]
  },
  {
   "cell_type": "code",
   "execution_count": null,
   "metadata": {},
   "outputs": [],
   "source": [
    "# The recommendation now is that you replace your usage of map and filter with generators expressions or list comprehensions\n",
    "# https://docs.python.org/3/library/itertools.html#itertools"
   ]
  }
 ],
 "metadata": {
  "kernelspec": {
   "display_name": "Python 3",
   "language": "python",
   "name": "python3"
  },
  "language_info": {
   "codemirror_mode": {
    "name": "ipython",
    "version": 3
   },
   "file_extension": ".py",
   "mimetype": "text/x-python",
   "name": "python",
   "nbconvert_exporter": "python",
   "pygments_lexer": "ipython3",
   "version": "3.7.3"
  }
 },
 "nbformat": 4,
 "nbformat_minor": 2
}
