{
 "cells": [
  {
   "cell_type": "code",
   "execution_count": null,
   "metadata": {},
   "outputs": [],
   "source": [
    "lst = ['keren', 'hila', 'Yoav']\n",
    "indexes = [1, 2, 3, 4]"
   ]
  },
  {
   "cell_type": "code",
   "execution_count": null,
   "metadata": {},
   "outputs": [],
   "source": [
    "sorted(lst)"
   ]
  },
  {
   "cell_type": "code",
   "execution_count": null,
   "metadata": {},
   "outputs": [],
   "source": [
    "# Higher order functions: can take functions as parameters and return functions. \n",
    "# Functions as arguments\n",
    "sorted(lst, key=str.lower)"
   ]
  },
  {
   "cell_type": "code",
   "execution_count": null,
   "metadata": {},
   "outputs": [],
   "source": [
    "#Having a function as a return value\n",
    "def decision(a):\n",
    "    def lower(b):\n",
    "        return b.lower()\n",
    "    def upper(b):\n",
    "        return b.upper()\n",
    "    def default(b):\n",
    "        return b\n",
    "    \n",
    "    if a in ('l', 'u'):\n",
    "        return lower if a is 'l' else upper\n",
    "    return default  \n",
    "\n",
    "f = decision('l')\n",
    "f('kEr')"
   ]
  },
  {
   "cell_type": "code",
   "execution_count": null,
   "metadata": {},
   "outputs": [],
   "source": [
    "# remember decorations?\n",
    "def smart_divide(func):\n",
    "   def inner(a,b):\n",
    "      if b == 0:\n",
    "         print(\"Whoops! cannot divide\")\n",
    "         return\n",
    "      return func(a,b)\n",
    "\n",
    "   return inner\n",
    "\n",
    "@smart_divide\n",
    "def divide(a,b):\n",
    "    return a/b\n",
    "\n",
    "divide(10, 0)"
   ]
  },
  {
   "cell_type": "code",
   "execution_count": null,
   "metadata": {},
   "outputs": [],
   "source": [
    "def star(func):\n",
    "    def inner(*args, **kwargs):\n",
    "        print(\"*\" * 30)\n",
    "        func(*args, **kwargs)\n",
    "        print(\"*\" * 30)\n",
    "    return inner\n",
    "\n",
    "def percent(func):\n",
    "    def inner(*args, **kwargs):\n",
    "        print(\"%\" * 30)\n",
    "        func(*args, **kwargs)\n",
    "        print(\"%\" * 30)\n",
    "    return inner\n",
    "\n",
    "@star\n",
    "@percent\n",
    "def printer(msg):\n",
    "    print(msg)\n",
    "    \n",
    "printer(\"Hello\")"
   ]
  },
  {
   "cell_type": "code",
   "execution_count": null,
   "metadata": {},
   "outputs": [],
   "source": [
    "# Closures: A function that knows about variable defined outside it's scope\n",
    "# read-only: variable defined outside it's scope cannot be changed inside the method\n",
    "def list_fruits():\n",
    "    fruits = ['bannana', 'apple']\n",
    "    def show():\n",
    "        # fruits += ['kiwi']\n",
    "        print(fruits)\n",
    "\n",
    "    return show\n",
    "\n",
    "fruit_list = list_fruits()\n",
    "fruit_list()"
   ]
  },
  {
   "cell_type": "code",
   "execution_count": null,
   "metadata": {},
   "outputs": [],
   "source": [
    "# A lambda expression is an anonymous function.\n",
    "f = lambda x: x + 1\n",
    "g = lambda x, y: x+y\n",
    "print(f(3))\n",
    "print(g(3, 4))"
   ]
  },
  {
   "cell_type": "code",
   "execution_count": null,
   "metadata": {},
   "outputs": [],
   "source": [
    "# applying an operation to each item in the list\n",
    "def sqr(x): return x ** 2\n",
    "map(sqr, indexes)"
   ]
  },
  {
   "cell_type": "code",
   "execution_count": null,
   "metadata": {},
   "outputs": [],
   "source": [
    "map((lambda x: x **2), indexes)"
   ]
  },
  {
   "cell_type": "code",
   "execution_count": null,
   "metadata": {},
   "outputs": [],
   "source": []
  }
 ],
 "metadata": {
  "kernelspec": {
   "display_name": "Python 3",
   "language": "python",
   "name": "python3"
  },
  "language_info": {
   "codemirror_mode": {
    "name": "ipython",
    "version": 3
   },
   "file_extension": ".py",
   "mimetype": "text/x-python",
   "name": "python",
   "nbconvert_exporter": "python",
   "pygments_lexer": "ipython3",
   "version": "3.7.3"
  }
 },
 "nbformat": 4,
 "nbformat_minor": 2
}
