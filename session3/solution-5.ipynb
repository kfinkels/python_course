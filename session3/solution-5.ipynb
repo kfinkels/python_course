{
 "cells": [
  {
   "cell_type": "code",
   "execution_count": 3,
   "metadata": {},
   "outputs": [
    {
     "data": {
      "text/plain": [
       "6"
      ]
     },
     "execution_count": 3,
     "metadata": {},
     "output_type": "execute_result"
    }
   ],
   "source": [
    "def factory(args):\n",
    "     def int_sum():\n",
    "        return sum(args)\n",
    "     def str_sum():\n",
    "        return ''.join(args)\n",
    "     def mix_sum():\n",
    "        return ''.join([str(a) for a in args])\n",
    "     types = {type(a) for a in args}\n",
    "     if len(types) == 1:\n",
    "        return int_sum if types == {int} else str_sum\n",
    "     return mix_sum\n",
    "\n",
    "sum_method = factory(['1', '2', '3'])\n",
    "# sum_method = factory([1, 2, 3])\n",
    "sum_method()"
   ]
  },
  {
   "cell_type": "code",
   "execution_count": null,
   "metadata": {},
   "outputs": [],
   "source": [
    "def adder(list):\n",
    "    def concat(b):\n",
    "        return ''.join(map(lambda v: str(v), b))\n",
    "\n",
    "    def add(b):\n",
    "        return sum(b)\n",
    "\n",
    "    return concat if any(filter(lambda v: type(v) is str, list)) else add"
   ]
  }
 ],
 "metadata": {
  "kernelspec": {
   "display_name": "Python 3",
   "language": "python",
   "name": "python3"
  },
  "language_info": {
   "codemirror_mode": {
    "name": "ipython",
    "version": 3
   },
   "file_extension": ".py",
   "mimetype": "text/x-python",
   "name": "python",
   "nbconvert_exporter": "python",
   "pygments_lexer": "ipython3",
   "version": "3.7.3"
  }
 },
 "nbformat": 4,
 "nbformat_minor": 2
}
