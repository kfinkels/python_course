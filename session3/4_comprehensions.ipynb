{
 "cells": [
  {
   "cell_type": "code",
   "execution_count": 1,
   "metadata": {},
   "outputs": [
    {
     "name": "stdout",
     "output_type": "stream",
     "text": [
      "[1, 81, 0, 16]\n"
     ]
    }
   ],
   "source": [
    "a_list = [1, '4', 9, 'a', 0, 4]\n",
    "new_list = []\n",
    "for num in a_list:\n",
    "    if isinstance(num, int):\n",
    "        new_list.append(num**2)\n",
    "print(new_list)"
   ]
  },
  {
   "cell_type": "code",
   "execution_count": 2,
   "metadata": {},
   "outputs": [
    {
     "data": {
      "text/plain": [
       "[1, 81, 0, 16]"
      ]
     },
     "execution_count": 2,
     "metadata": {},
     "output_type": "execute_result"
    }
   ],
   "source": [
    "# building one list from another in one line\n",
    "[num**2 for num in a_list if isinstance(num, int)]"
   ]
  },
  {
   "cell_type": "code",
   "execution_count": 6,
   "metadata": {},
   "outputs": [
    {
     "data": {
      "text/plain": [
       "[('red', 'house'),\n",
       " ('red', 'car'),\n",
       " ('red', 'tree'),\n",
       " ('green', 'house'),\n",
       " ('green', 'car'),\n",
       " ('green', 'tree'),\n",
       " ('yellow', 'house'),\n",
       " ('yellow', 'car'),\n",
       " ('yellow', 'tree'),\n",
       " ('blue', 'house'),\n",
       " ('blue', 'car'),\n",
       " ('blue', 'tree')]"
      ]
     },
     "execution_count": 6,
     "metadata": {},
     "output_type": "execute_result"
    }
   ],
   "source": [
    "# nested for \n",
    "colours = [\"red\", \"green\", \"yellow\", \"blue\"]\n",
    "things = [\"house\", \"car\", \"tree\"]\n",
    "[(x,y) for x in colours for y in things]"
   ]
  },
  {
   "cell_type": "code",
   "execution_count": 7,
   "metadata": {},
   "outputs": [
    {
     "data": {
      "text/plain": [
       "[0, 10, 20, 30, 40, 50, 60, 70, 80, 90]"
      ]
     },
     "execution_count": 7,
     "metadata": {},
     "output_type": "execute_result"
    }
   ],
   "source": [
    "# nested if\n",
    "[x for x in range(100) if x % 2 == 0 if x % 5 == 0]"
   ]
  },
  {
   "cell_type": "code",
   "execution_count": 8,
   "metadata": {},
   "outputs": [
    {
     "data": {
      "text/plain": [
       "['0 is even',\n",
       " '1 is odd',\n",
       " '2 is even',\n",
       " '3 is odd',\n",
       " '4 is even',\n",
       " '5 is odd',\n",
       " '6 is even',\n",
       " '7 is odd',\n",
       " '8 is even',\n",
       " '9 is odd']"
      ]
     },
     "execution_count": 8,
     "metadata": {},
     "output_type": "execute_result"
    }
   ],
   "source": [
    "# if...else\n",
    "[f\"{i} is even\" if i%2==0 else f\"{i} is odd\" for i in range(10)]"
   ]
  },
  {
   "cell_type": "code",
   "execution_count": 9,
   "metadata": {},
   "outputs": [
    {
     "data": {
      "text/plain": [
       "{'d', 'r'}"
      ]
     },
     "execution_count": 9,
     "metadata": {},
     "output_type": "execute_result"
    }
   ],
   "source": [
    "# set - the same as list, drops repeated items\n",
    "{x for x in 'abracadabra' if x not in 'abc'}\n",
    "a = set()\n",
    "b = {}"
   ]
  },
  {
   "cell_type": "code",
   "execution_count": 10,
   "metadata": {},
   "outputs": [
    {
     "data": {
      "text/plain": [
       "{'a': 2, 'b': 4, 'c': 6, 'd': 8, 'e': 10}"
      ]
     },
     "execution_count": 10,
     "metadata": {},
     "output_type": "execute_result"
    }
   ],
   "source": [
    "# dict - remember to use keys, values, items\n",
    "dict1 = {'a': 1, 'b': 2, 'c': 3, 'd': 4, 'e': 5}\n",
    "{k:v*2 for k,v in dict1.items()}\n",
    "\n",
    "# new_d = {}\n",
    "# for key, val in dict1.items():\n",
    "#    new_dict[key] = val*2    "
   ]
  },
  {
   "cell_type": "code",
   "execution_count": 11,
   "metadata": {},
   "outputs": [
    {
     "data": {
      "text/plain": [
       "{'x': ['a'], 'y': ['x'], 'z': ['y']}"
      ]
     },
     "execution_count": 11,
     "metadata": {},
     "output_type": "execute_result"
    }
   ],
   "source": [
    "# reverse keys\\values\n",
    "dict1 = {'a': ['x'], 'x': ['y'], 'y': ['z']}\n",
    "{v[0]:[k] for k,v in dict1.items()}"
   ]
  },
  {
   "cell_type": "code",
   "execution_count": null,
   "metadata": {},
   "outputs": [],
   "source": []
  }
 ],
 "metadata": {
  "kernelspec": {
   "display_name": "Python 3",
   "language": "python",
   "name": "python3"
  },
  "language_info": {
   "codemirror_mode": {
    "name": "ipython",
    "version": 3
   },
   "file_extension": ".py",
   "mimetype": "text/x-python",
   "name": "python",
   "nbconvert_exporter": "python",
   "pygments_lexer": "ipython3",
   "version": "3.7.3"
  }
 },
 "nbformat": 4,
 "nbformat_minor": 2
}
