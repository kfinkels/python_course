{
 "cells": [
  {
   "cell_type": "code",
   "execution_count": 3,
   "metadata": {},
   "outputs": [
    {
     "name": "stdout",
     "output_type": "stream",
     "text": [
      "Error: not writable\n"
     ]
    }
   ],
   "source": [
    "# try-except\n",
    "try:\n",
    "   fh = open(\"testfile\", \"r\")\n",
    "   fh.write(\"This is my test file for exception handling!!\")\n",
    "# except Exception as ex:\n",
    "#     print(f\"Error: {ex}\")\n",
    "except IOError as ex:\n",
    "    print(f\"IOError: {ex}\")\n",
    "except FileNotFoundError as e:\n",
    "    print(f\"FileNotFoundError: {ex}\")\n",
    "except (IOError, FileNotFoundError) as ex:\n",
    "    print(f\"Error: {ex}\")"
   ]
  },
  {
   "cell_type": "code",
   "execution_count": 7,
   "metadata": {},
   "outputs": [
    {
     "name": "stdout",
     "output_type": "stream",
     "text": [
      "in else\n"
     ]
    }
   ],
   "source": [
    "# try-except-else\n",
    "# 'else' is better than adding code to the try clause because it avoids accidentally catching an exception \n",
    "# that wasn’t raised by the code being protected by the try … except statement.\n",
    "try:\n",
    "#     fh = open(\"testfile_r\", \"r+\")\n",
    "    fh = open(\"testfile_w\", \"w\")\n",
    "except Exception as ex:\n",
    "    print(\"Error: can't find file or read data\")\n",
    "else:\n",
    "    print('in else')\n",
    "    fh.write(\"This is my test file for exception handling!!\")\n",
    "    fh.close()"
   ]
  },
  {
   "cell_type": "code",
   "execution_count": null,
   "metadata": {},
   "outputs": [],
   "source": [
    "# try-except-finally\n",
    "try:\n",
    "    fh = open(\"testfile\", \"w\")\n",
    "    fh.write(\"This is my test file for exception handling!!\")\n",
    "finally:\n",
    "    print(\"closing the stream\")\n",
    "    fh.close()"
   ]
  },
  {
   "cell_type": "code",
   "execution_count": null,
   "metadata": {},
   "outputs": [],
   "source": [
    "# raising an exception\n",
    "def func( level ):\n",
    "   if level < 1:\n",
    "      raise Exception(f\"Invalid level: {level}\")\n",
    "func(0)"
   ]
  },
  {
   "cell_type": "code",
   "execution_count": 8,
   "metadata": {},
   "outputs": [
    {
     "ename": "DivideException",
     "evalue": "Invalid level: 0",
     "output_type": "error",
     "traceback": [
      "\u001b[0;31m---------------------------------------------------------------------------\u001b[0m",
      "\u001b[0;31mDivideException\u001b[0m                           Traceback (most recent call last)",
      "\u001b[0;32m<ipython-input-8-d2664a82be2f>\u001b[0m in \u001b[0;36m<module>\u001b[0;34m\u001b[0m\n\u001b[1;32m      8\u001b[0m    \u001b[0;32mif\u001b[0m \u001b[0mlevel\u001b[0m \u001b[0;34m<\u001b[0m \u001b[0;36m1\u001b[0m\u001b[0;34m:\u001b[0m\u001b[0;34m\u001b[0m\u001b[0;34m\u001b[0m\u001b[0m\n\u001b[1;32m      9\u001b[0m       \u001b[0;32mraise\u001b[0m \u001b[0mDivideException\u001b[0m\u001b[0;34m(\u001b[0m\u001b[0mlevel\u001b[0m\u001b[0;34m)\u001b[0m\u001b[0;34m\u001b[0m\u001b[0;34m\u001b[0m\u001b[0m\n\u001b[0;32m---> 10\u001b[0;31m \u001b[0mfunc\u001b[0m\u001b[0;34m(\u001b[0m\u001b[0;36m0\u001b[0m\u001b[0;34m)\u001b[0m\u001b[0;34m\u001b[0m\u001b[0;34m\u001b[0m\u001b[0m\n\u001b[0m",
      "\u001b[0;32m<ipython-input-8-d2664a82be2f>\u001b[0m in \u001b[0;36mfunc\u001b[0;34m(level)\u001b[0m\n\u001b[1;32m      7\u001b[0m \u001b[0;32mdef\u001b[0m \u001b[0mfunc\u001b[0m\u001b[0;34m(\u001b[0m \u001b[0mlevel\u001b[0m \u001b[0;34m)\u001b[0m\u001b[0;34m:\u001b[0m\u001b[0;34m\u001b[0m\u001b[0;34m\u001b[0m\u001b[0m\n\u001b[1;32m      8\u001b[0m    \u001b[0;32mif\u001b[0m \u001b[0mlevel\u001b[0m \u001b[0;34m<\u001b[0m \u001b[0;36m1\u001b[0m\u001b[0;34m:\u001b[0m\u001b[0;34m\u001b[0m\u001b[0;34m\u001b[0m\u001b[0m\n\u001b[0;32m----> 9\u001b[0;31m       \u001b[0;32mraise\u001b[0m \u001b[0mDivideException\u001b[0m\u001b[0;34m(\u001b[0m\u001b[0mlevel\u001b[0m\u001b[0;34m)\u001b[0m\u001b[0;34m\u001b[0m\u001b[0;34m\u001b[0m\u001b[0m\n\u001b[0m\u001b[1;32m     10\u001b[0m \u001b[0mfunc\u001b[0m\u001b[0;34m(\u001b[0m\u001b[0;36m0\u001b[0m\u001b[0;34m)\u001b[0m\u001b[0;34m\u001b[0m\u001b[0;34m\u001b[0m\u001b[0m\n",
      "\u001b[0;31mDivideException\u001b[0m: Invalid level: 0"
     ]
    }
   ],
   "source": [
    "# writing your own exception\n",
    "class DivideException(Exception):\n",
    "    def __init__(self, level):\n",
    "        # Call the base class constructor with the parameters it needs\n",
    "        super().__init__(f\"Invalid level: {level}\")\n",
    "\n",
    "def func( level ):\n",
    "   if level < 1:\n",
    "      raise DivideException(level)\n",
    "func(0)"
   ]
  },
  {
   "cell_type": "code",
   "execution_count": null,
   "metadata": {},
   "outputs": [],
   "source": []
  }
 ],
 "metadata": {
  "kernelspec": {
   "display_name": "Python 3",
   "language": "python",
   "name": "python3"
  },
  "language_info": {
   "codemirror_mode": {
    "name": "ipython",
    "version": 3
   },
   "file_extension": ".py",
   "mimetype": "text/x-python",
   "name": "python",
   "nbconvert_exporter": "python",
   "pygments_lexer": "ipython3",
   "version": "3.7.5"
  }
 },
 "nbformat": 4,
 "nbformat_minor": 4
}
