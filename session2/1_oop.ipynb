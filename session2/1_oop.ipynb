{
 "cells": [
  {
   "cell_type": "code",
   "execution_count": 1,
   "metadata": {},
   "outputs": [
    {
     "name": "stdout",
     "output_type": "stream",
     "text": [
      "The Zen of Python, by Tim Peters\n",
      "\n",
      "Beautiful is better than ugly.\n",
      "Explicit is better than implicit.\n",
      "Simple is better than complex.\n",
      "Complex is better than complicated.\n",
      "Flat is better than nested.\n",
      "Sparse is better than dense.\n",
      "Readability counts.\n",
      "Special cases aren't special enough to break the rules.\n",
      "Although practicality beats purity.\n",
      "Errors should never pass silently.\n",
      "Unless explicitly silenced.\n",
      "In the face of ambiguity, refuse the temptation to guess.\n",
      "There should be one-- and preferably only one --obvious way to do it.\n",
      "Although that way may not be obvious at first unless you're Dutch.\n",
      "Now is better than never.\n",
      "Although never is often better than *right* now.\n",
      "If the implementation is hard to explain, it's a bad idea.\n",
      "If the implementation is easy to explain, it may be a good idea.\n",
      "Namespaces are one honking great idea -- let's do more of those!\n"
     ]
    }
   ],
   "source": [
    "import this"
   ]
  },
  {
   "cell_type": "code",
   "execution_count": null,
   "metadata": {},
   "outputs": [],
   "source": [
    "class MyClass:\n",
    "    variable = \"blah\"\n",
    "\n",
    "    def function(self):\n",
    "        print(\"This is a message inside the class.\")\n",
    "        \n",
    "myobjectx = MyClass()\n",
    "print(type(myobjectx))\n",
    "print(myobjectx)"
   ]
  },
  {
   "cell_type": "code",
   "execution_count": null,
   "metadata": {},
   "outputs": [],
   "source": [
    "# Accessing Object Variables\n",
    "myobjectx.variable"
   ]
  },
  {
   "cell_type": "code",
   "execution_count": null,
   "metadata": {},
   "outputs": [],
   "source": [
    "# create multiple different objects that are of the same class\n",
    "myobjecty = MyClass()\n",
    "print(myobjectx)\n",
    "print(myobjecty)"
   ]
  },
  {
   "cell_type": "code",
   "execution_count": null,
   "metadata": {},
   "outputs": [],
   "source": [
    "# changing the object state\n",
    "myobjecty.variable = \"halb\"\n",
    "\n",
    "# Then print out both values\n",
    "print(myobjectx.variable)\n",
    "print(myobjecty.variable)"
   ]
  },
  {
   "cell_type": "code",
   "execution_count": null,
   "metadata": {},
   "outputs": [],
   "source": [
    "# Accessing Object Functions\n",
    "myobjectx.function()"
   ]
  },
  {
   "cell_type": "code",
   "execution_count": null,
   "metadata": {},
   "outputs": [],
   "source": [
    "# Excersice: We have a class defined for vehicles. \n",
    "# Create two new vehicles called car1 and car2. \n",
    "# Set car1 to be a red convertible worth $60,000.00 with a name of Fer, \n",
    "# and car2 to be a blue van named Jump worth $10,000.00.\n",
    "# define the Vehicle class\n",
    "\n",
    "class Vehicle:\n",
    "    name = \"\"\n",
    "    kind = \"car\"\n",
    "    color = \"\"\n",
    "    value = 100.00\n",
    "    \n",
    "    def description(self):\n",
    "        desc_str = f'{self.name} is a {self.color} {self.kind} worth {self.value}.'\n",
    "        return desc_str\n",
    "\n",
    "# your code goes here\n",
    "\n",
    "# test code\n",
    "print(car1.description())\n",
    "print(car2.description())"
   ]
  },
  {
   "cell_type": "code",
   "execution_count": null,
   "metadata": {},
   "outputs": [],
   "source": [
    "   "
   ]
  }
 ],
 "metadata": {
  "kernelspec": {
   "display_name": "Python 3",
   "language": "python",
   "name": "python3"
  },
  "language_info": {
   "codemirror_mode": {
    "name": "ipython",
    "version": 3
   },
   "file_extension": ".py",
   "mimetype": "text/x-python",
   "name": "python",
   "nbconvert_exporter": "python",
   "pygments_lexer": "ipython3",
   "version": "3.7.5"
  }
 },
 "nbformat": 4,
 "nbformat_minor": 4
}
