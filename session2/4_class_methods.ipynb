{
 "cells": [
  {
   "cell_type": "code",
   "execution_count": 16,
   "metadata": {},
   "outputs": [],
   "source": [
    "class MyDate:\n",
    "    \n",
    "    # Through the self parameter, instance methods can freely access attributes \n",
    "    # and other methods on the same object. \n",
    "    def __init__(self, day=0, month=0, year=0):\n",
    "        self.day = day\n",
    "        self.month = month\n",
    "        self.year = year\n",
    "\n",
    "    # Instead of accepting a self parameter, class methods take a cls parameter that points to the class\n",
    "    # It can’t modify object instance state.\n",
    "    # Can modify class state that applies across all instances of the class.\n",
    "    # cls is an object that holds the class itself, not an instance of the class.\n",
    "    @classmethod\n",
    "    def from_string(cls, date_as_string):\n",
    "        day, month, year = map(int, date_as_string.split('-'))\n",
    "        date1 = cls(day, month, year)\n",
    "        return date1\n",
    "\n",
    "\n",
    "    # Can neither modify object state nor class state. \n",
    "    # This task is logically bound to the the class, but doesn't require instantiation of it.\n",
    "    @staticmethod\n",
    "    def is_date_valid(date_as_string):\n",
    "        day, month, year = map(int, date_as_string.split('-'))\n",
    "        return day <= 31 and month <= 12 and year <= 3999"
   ]
  },
  {
   "cell_type": "code",
   "execution_count": 17,
   "metadata": {},
   "outputs": [
    {
     "name": "stdout",
     "output_type": "stream",
     "text": [
      "30 3 2020\n"
     ]
    }
   ],
   "source": [
    "# Calling instance method\n",
    "obj = MyDate(30, 3, 2020)\n",
    "print(obj.day, obj.month, obj.year)"
   ]
  },
  {
   "cell_type": "code",
   "execution_count": 18,
   "metadata": {},
   "outputs": [
    {
     "name": "stdout",
     "output_type": "stream",
     "text": [
      "1 4 2020\n"
     ]
    }
   ],
   "source": [
    "# This is the same\n",
    "MyDate.__init__(obj, 1, 4, 2020)\n",
    "print(obj.day, obj.month, obj.year)"
   ]
  },
  {
   "cell_type": "code",
   "execution_count": 20,
   "metadata": {},
   "outputs": [
    {
     "name": "stdout",
     "output_type": "stream",
     "text": [
      "11 9 2020\n"
     ]
    }
   ],
   "source": [
    "# Calling class method: \n",
    "new_date = MyDate.from_string('11-09-2020')\n",
    "print(new_date.day, new_date.month, new_date.year)"
   ]
  },
  {
   "cell_type": "code",
   "execution_count": 21,
   "metadata": {},
   "outputs": [
    {
     "data": {
      "text/plain": [
       "True"
      ]
     },
     "execution_count": 21,
     "metadata": {},
     "output_type": "execute_result"
    }
   ],
   "source": [
    "# # We have a date string that we want to validate somehow. \n",
    "# This task is also logically bound to the Date class we've used so far, \n",
    "# but doesn't require instantiation of it.\n",
    "MyDate.is_date_valid('11-09-2012')"
   ]
  },
  {
   "cell_type": "code",
   "execution_count": null,
   "metadata": {},
   "outputs": [],
   "source": []
  }
 ],
 "metadata": {
  "kernelspec": {
   "display_name": "Python 3",
   "language": "python",
   "name": "python3"
  },
  "language_info": {
   "codemirror_mode": {
    "name": "ipython",
    "version": 3
   },
   "file_extension": ".py",
   "mimetype": "text/x-python",
   "name": "python",
   "nbconvert_exporter": "python",
   "pygments_lexer": "ipython3",
   "version": "3.7.5"
  }
 },
 "nbformat": 4,
 "nbformat_minor": 4
}
